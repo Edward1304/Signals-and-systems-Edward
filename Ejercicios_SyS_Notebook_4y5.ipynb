{
  "nbformat": 4,
  "nbformat_minor": 0,
  "metadata": {
    "colab": {
      "provenance": [],
      "authorship_tag": "ABX9TyMTGm7CoWqaSHlVu3lWJ5PH",
      "include_colab_link": true
    },
    "kernelspec": {
      "name": "python3",
      "display_name": "Python 3"
    },
    "language_info": {
      "name": "python"
    },
    "widgets": {
      "application/vnd.jupyter.widget-state+json": {
        "0e3868e91e674067a01db3967eb7f116": {
          "model_module": "@jupyter-widgets/controls",
          "model_name": "VBoxModel",
          "model_module_version": "1.5.0",
          "state": {
            "_dom_classes": [
              "widget-interact"
            ],
            "_model_module": "@jupyter-widgets/controls",
            "_model_module_version": "1.5.0",
            "_model_name": "VBoxModel",
            "_view_count": null,
            "_view_module": "@jupyter-widgets/controls",
            "_view_module_version": "1.5.0",
            "_view_name": "VBoxView",
            "box_style": "",
            "children": [
              "IPY_MODEL_535790a27e7e490f9e8b69d76a17911f",
              "IPY_MODEL_2a34fe08e7094afc84d5aca53e012b4f"
            ],
            "layout": "IPY_MODEL_7b368044bc464db6a8ca1215a2ba59ff"
          }
        },
        "535790a27e7e490f9e8b69d76a17911f": {
          "model_module": "@jupyter-widgets/controls",
          "model_name": "FloatTextModel",
          "model_module_version": "1.5.0",
          "state": {
            "_dom_classes": [],
            "_model_module": "@jupyter-widgets/controls",
            "_model_module_version": "1.5.0",
            "_model_name": "FloatTextModel",
            "_view_count": null,
            "_view_module": "@jupyter-widgets/controls",
            "_view_module_version": "1.5.0",
            "_view_name": "FloatTextView",
            "continuous_update": false,
            "description": "Valor de f:",
            "description_tooltip": null,
            "disabled": false,
            "layout": "IPY_MODEL_47ebb18be0e74699b7653d590fc6291e",
            "step": 0.1,
            "style": "IPY_MODEL_d3220aa2ac2949a783ce7b333e5b0f89",
            "value": 0
          }
        },
        "2a34fe08e7094afc84d5aca53e012b4f": {
          "model_module": "@jupyter-widgets/output",
          "model_name": "OutputModel",
          "model_module_version": "1.0.0",
          "state": {
            "_dom_classes": [],
            "_model_module": "@jupyter-widgets/output",
            "_model_module_version": "1.0.0",
            "_model_name": "OutputModel",
            "_view_count": null,
            "_view_module": "@jupyter-widgets/output",
            "_view_module_version": "1.0.0",
            "_view_name": "OutputView",
            "layout": "IPY_MODEL_b7e5167c0e114f9eb4de9845bf0e60ea",
            "msg_id": "",
            "outputs": [
              {
                "output_type": "display_data",
                "data": {
                  "text/plain": "<Figure size 1800x720 with 1 Axes>",
                  "image/png": "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\n"
                },
                "metadata": {
                  "needs_background": "light"
                }
              }
            ]
          }
        },
        "7b368044bc464db6a8ca1215a2ba59ff": {
          "model_module": "@jupyter-widgets/base",
          "model_name": "LayoutModel",
          "model_module_version": "1.2.0",
          "state": {
            "_model_module": "@jupyter-widgets/base",
            "_model_module_version": "1.2.0",
            "_model_name": "LayoutModel",
            "_view_count": null,
            "_view_module": "@jupyter-widgets/base",
            "_view_module_version": "1.2.0",
            "_view_name": "LayoutView",
            "align_content": null,
            "align_items": null,
            "align_self": null,
            "border": null,
            "bottom": null,
            "display": null,
            "flex": null,
            "flex_flow": null,
            "grid_area": null,
            "grid_auto_columns": null,
            "grid_auto_flow": null,
            "grid_auto_rows": null,
            "grid_column": null,
            "grid_gap": null,
            "grid_row": null,
            "grid_template_areas": null,
            "grid_template_columns": null,
            "grid_template_rows": null,
            "height": null,
            "justify_content": null,
            "justify_items": null,
            "left": null,
            "margin": null,
            "max_height": null,
            "max_width": null,
            "min_height": null,
            "min_width": null,
            "object_fit": null,
            "object_position": null,
            "order": null,
            "overflow": null,
            "overflow_x": null,
            "overflow_y": null,
            "padding": null,
            "right": null,
            "top": null,
            "visibility": null,
            "width": null
          }
        },
        "47ebb18be0e74699b7653d590fc6291e": {
          "model_module": "@jupyter-widgets/base",
          "model_name": "LayoutModel",
          "model_module_version": "1.2.0",
          "state": {
            "_model_module": "@jupyter-widgets/base",
            "_model_module_version": "1.2.0",
            "_model_name": "LayoutModel",
            "_view_count": null,
            "_view_module": "@jupyter-widgets/base",
            "_view_module_version": "1.2.0",
            "_view_name": "LayoutView",
            "align_content": null,
            "align_items": null,
            "align_self": null,
            "border": null,
            "bottom": null,
            "display": null,
            "flex": null,
            "flex_flow": null,
            "grid_area": null,
            "grid_auto_columns": null,
            "grid_auto_flow": null,
            "grid_auto_rows": null,
            "grid_column": null,
            "grid_gap": null,
            "grid_row": null,
            "grid_template_areas": null,
            "grid_template_columns": null,
            "grid_template_rows": null,
            "height": null,
            "justify_content": null,
            "justify_items": null,
            "left": null,
            "margin": null,
            "max_height": null,
            "max_width": null,
            "min_height": null,
            "min_width": null,
            "object_fit": null,
            "object_position": null,
            "order": null,
            "overflow": null,
            "overflow_x": null,
            "overflow_y": null,
            "padding": null,
            "right": null,
            "top": null,
            "visibility": null,
            "width": null
          }
        },
        "d3220aa2ac2949a783ce7b333e5b0f89": {
          "model_module": "@jupyter-widgets/controls",
          "model_name": "DescriptionStyleModel",
          "model_module_version": "1.5.0",
          "state": {
            "_model_module": "@jupyter-widgets/controls",
            "_model_module_version": "1.5.0",
            "_model_name": "DescriptionStyleModel",
            "_view_count": null,
            "_view_module": "@jupyter-widgets/base",
            "_view_module_version": "1.2.0",
            "_view_name": "StyleView",
            "description_width": ""
          }
        },
        "b7e5167c0e114f9eb4de9845bf0e60ea": {
          "model_module": "@jupyter-widgets/base",
          "model_name": "LayoutModel",
          "model_module_version": "1.2.0",
          "state": {
            "_model_module": "@jupyter-widgets/base",
            "_model_module_version": "1.2.0",
            "_model_name": "LayoutModel",
            "_view_count": null,
            "_view_module": "@jupyter-widgets/base",
            "_view_module_version": "1.2.0",
            "_view_name": "LayoutView",
            "align_content": null,
            "align_items": null,
            "align_self": null,
            "border": null,
            "bottom": null,
            "display": null,
            "flex": null,
            "flex_flow": null,
            "grid_area": null,
            "grid_auto_columns": null,
            "grid_auto_flow": null,
            "grid_auto_rows": null,
            "grid_column": null,
            "grid_gap": null,
            "grid_row": null,
            "grid_template_areas": null,
            "grid_template_columns": null,
            "grid_template_rows": null,
            "height": null,
            "justify_content": null,
            "justify_items": null,
            "left": null,
            "margin": null,
            "max_height": null,
            "max_width": null,
            "min_height": null,
            "min_width": null,
            "object_fit": null,
            "object_position": null,
            "order": null,
            "overflow": null,
            "overflow_x": null,
            "overflow_y": null,
            "padding": null,
            "right": null,
            "top": null,
            "visibility": null,
            "width": null
          }
        }
      }
    }
  },
  "cells": [
    {
      "cell_type": "markdown",
      "metadata": {
        "id": "view-in-github",
        "colab_type": "text"
      },
      "source": [
        "<a href=\"https://colab.research.google.com/github/Edward1304/Signals-and-systems-Edward/blob/main/Ejercicios_SyS_Notebook_4y5.ipynb\" target=\"_parent\"><img src=\"https://colab.research.google.com/assets/colab-badge.svg\" alt=\"Open In Colab\"/></a>"
      ]
    },
    {
      "cell_type": "markdown",
      "source": [
        "Edward Fabian Goyeneche Velandia.\\\n",
        "Juan Esteban  Guevara Roncancio \\\n",
        "Juan Sebastian Torres Clavijo"
      ],
      "metadata": {
        "id": "Sa47JRFDUCV4"
      }
    },
    {
      "cell_type": "markdown",
      "source": [
        "###Ejercicio Notebook 4-5"
      ],
      "metadata": {
        "id": "SqfJue8bU5G0"
      }
    },
    {
      "cell_type": "markdown",
      "source": [
        "---------------------------------------------------------------------------------------------------------"
      ],
      "metadata": {
        "id": "QmNg6jpMXWPu"
      }
    },
    {
      "cell_type": "markdown",
      "source": [
        "### Ejercicio\n",
        "\n",
        "El siguiente bloque de código permite graficar las primeras 50 muestras de la señal $x[n] = cos[2\\pi fn]$ para diferentes valores de $f$. \n",
        "\n",
        "Saque sus propias conclusiones de cómo afecta el valor de la frecuencia el periodo de la señal discreta."
      ],
      "metadata": {
        "id": "uBHRUbcXU-j-"
      }
    },
    {
      "cell_type": "markdown",
      "source": [
        "#Notebook 4 (Señales periódicas y aperiódicas)"
      ],
      "metadata": {
        "id": "OQno0j4gXMgB"
      }
    },
    {
      "cell_type": "code",
      "source": [
        "from numpy import exp, pi, arange, real, imag, abs, angle, sqrt, cos\n",
        "import matplotlib.pyplot as plt\n",
        "import ipywidgets\n",
        "def senial(f): \n",
        "  \n",
        "  n = arange(0, 50)\n",
        "  plt.figure(1, (25, 10))\n",
        "  x = cos(4*pi*f*n)\n",
        "  plt.stem(n, x, use_line_collection=True)\n",
        "  plt.grid()\n",
        "  plt.margins(x=.01)\n",
        "  plt.title('Gráfica de la señal $x[n] = cos(2\\pi \\cdot {} \\cdot n)$'.format(f), fontsize=15)\n",
        "  plt.xlabel('Muestras')\n",
        "  plt.show()\n",
        "display(ipywidgets.interactive(senial, f=ipywidgets.FloatText(value=0, step=.1, description='Valor de f:')))"
      ],
      "metadata": {
        "colab": {
          "base_uri": "https://localhost:8080/",
          "height": 578,
          "referenced_widgets": [
            "0e3868e91e674067a01db3967eb7f116",
            "535790a27e7e490f9e8b69d76a17911f",
            "2a34fe08e7094afc84d5aca53e012b4f",
            "7b368044bc464db6a8ca1215a2ba59ff",
            "47ebb18be0e74699b7653d590fc6291e",
            "d3220aa2ac2949a783ce7b333e5b0f89",
            "b7e5167c0e114f9eb4de9845bf0e60ea"
          ]
        },
        "id": "9vsKbIUBVGjm",
        "outputId": "419e699e-0720-48c2-980d-1df0bbd65594"
      },
      "execution_count": 1,
      "outputs": [
        {
          "output_type": "display_data",
          "data": {
            "text/plain": [
              "interactive(children=(FloatText(value=0.0, description='Valor de f:', step=0.1), Output()), _dom_classes=('wid…"
            ],
            "application/vnd.jupyter.widget-view+json": {
              "version_major": 2,
              "version_minor": 0,
              "model_id": "0e3868e91e674067a01db3967eb7f116"
            }
          },
          "metadata": {}
        }
      ]
    },
    {
      "cell_type": "markdown",
      "source": [
        "Tenemos la señal $x[n] = cos[2\\pi fn]$, a medida que variamos el valor de f, la imagen mostrada se repite cada 1.0 unidades; es decir que la de f = 0.2 es igual a la de f = 1.2. Por qué?\n",
        "\n",
        "Tendremos una periodicidad dada por \n",
        "\n",
        "$$\n",
        "cos[2\\pi fn] = cos[2\\pi (f+F)n]\\\\\n",
        "cos[2\\pi fn] = cos[2\\pi fn]*cos[2\\pi Fn] - sen[2\\pi fn]*sen[2\\pi Fn]\\\\\n",
        "$$\n",
        "Para eso:\n",
        "\n",
        "\n",
        "$$cos[2\\pi Fn] = 1\\\\sen[2\\pi Fn] = 0$$\n",
        "\n",
        "Entonces \n",
        "$$\n",
        "2\\pi Fn = 2\\pi k, k \\in \\mathbf{N}\\\\\n",
        "k = Fn \\in \\mathbf{N}\n",
        "$$\n",
        "Entonces la señal cuya frecuencia angular sea igual a $f$, tendrá una señal idéntica dad por la frecuencia angular $f + F$ donde F es un número natural."
      ],
      "metadata": {
        "id": "yT8N20_GVrZo"
      }
    },
    {
      "cell_type": "markdown",
      "source": [
        "-------------------------------------------------------------------------------------------------------------------------"
      ],
      "metadata": {
        "id": "sgl3g8tRXAXC"
      }
    },
    {
      "cell_type": "markdown",
      "source": [
        "###Notebook 5 (Señales Energia Potencia)"
      ],
      "metadata": {
        "id": "IsMnIUEPXZkM"
      }
    },
    {
      "cell_type": "markdown",
      "source": [
        "## Ejercicio 1\n",
        "\n",
        "Graficar la potencia media de una impedancia $R+jwL$, cuándo es excitada por una fuente sinusoidal.\n",
        "\n",
        "Graficar la potencia media de una impedancia $R-j\\frac{1}{wC} $, cuándo es excitada por una fuente sinusoidal."
      ],
      "metadata": {
        "id": "VAKGqJMqWHrT"
      }
    },
    {
      "cell_type": "code",
      "source": [
        "from sympy import * #importar todo sympy\n",
        "init_printing()\n",
        "import warnings\n",
        "warnings.filterwarnings(\"ignore\")\n",
        "\n",
        "w = symbols('w', real=True, nonzero=True)\n",
        "I_max , t, R, L, C, T = symbols('I_max t R L C T', real=True)\n",
        "\n",
        "i = I_max*sin(w*t)\n",
        "T0 = 2*pi/w\n",
        "\n",
        "\n",
        "vl = L*diff(i,t)\n",
        "vc = -I_max*cos(w*t)/(w*C)\n",
        "vr = R*i\n",
        "\n",
        "v = vl + vr\n",
        "I = i.subs([(I_max,2),(w,0.2*pi)])\n",
        "V = v.subs([(I_max,2),(w,0.2*pi),(R,4),(L,1.9)])\n",
        "\n",
        "t0 = T0.subs(w,0.2*pi)\n",
        "\n",
        "P = V*I\n",
        "p = integrate(P,(t,0,t0)) / t0\n",
        "\n",
        "fig = plot(I,show=False,line_color=\"red\",label=\"i(t)\",legend=1,title=\"Potencia para impedancia $R + j\\omega L$\")\n",
        "fig.extend(plot(V,show=False,label=\"v(t)\"))\n",
        "fig.extend(plot(P,show=False,label=\"$P_{instantanea}(t)$\",line_color=\"green\"))\n",
        "fig.extend(plot(p,show=False,label=\"$P_{media}$\",line_color=\"violet\"))\n",
        "\n",
        "\n",
        "fig.show()\n",
        "integrate(v*i,(t,0,T0))/T0,p"
      ],
      "metadata": {
        "colab": {
          "base_uri": "https://localhost:8080/",
          "height": 360
        },
        "id": "lt219crzd8Go",
        "outputId": "0194ab61-289d-4a80-9db4-8be41b3ade36"
      },
      "execution_count": null,
      "outputs": [
        {
          "output_type": "display_data",
          "data": {
            "text/plain": [
              "<Figure size 432x288 with 1 Axes>"
            ],
            "image/png": "[encoded data removed]"
          },
          "metadata": {
            "needs_background": "light"
          }
        },
        {
          "output_type": "execute_result",
          "data": {
            "text/plain": [
              "⎛  ⎛    2                               ⎞     ⎞\n",
              "⎜  ⎜Iₘₐₓ ⋅L        ⎛  Iₘₐₓ⋅L   π⋅Iₘₐₓ⋅R⎞⎟     ⎟\n",
              "⎜w⋅⎜─────── + Iₘₐₓ⋅⎜- ────── + ────────⎟⎟     ⎟\n",
              "⎜  ⎝   2           ⎝    2         w    ⎠⎠     ⎟\n",
              "⎜────────────────────────────────────────, 8.0⎟\n",
              "⎝                  2⋅π                        ⎠"
            ],
            "image/png": "[encoded data removed]",
            "text/latex": "$\\displaystyle \\left( \\frac{w \\left(\\frac{I_{max}^{2} L}{2} + I_{max} \\left(- \\frac{I_{max} L}{2} + \\frac{\\pi I_{max} R}{w}\\right)\\right)}{2 \\pi}, \\  8.0\\right)$"
          },
          "metadata": {},
          "execution_count": 4
        }
      ]
    },
    {
      "cell_type": "markdown",
      "source": [
        "## Ejercicio 2\n"
      ],
      "metadata": {
        "id": "O3j_FuRuYBRj"
      }
    },
    {
      "cell_type": "markdown",
      "source": [
        "\n",
        "\n",
        "\n",
        "Dado que el valor RMS de una señal continua en un intervalo $[a,b]$ está dada por:\n",
        "$$\n",
        "x_{RMS} = \\lim_{n \\to \\infty} \\sqrt{  \\frac{1}{n}  \\sum_{j=1}^n x(a+j\\Delta x)^2}\n",
        "$$\n",
        "ya que sabemos que $Δx = \\frac{b-a}{n}$, podemos despejar n que sería $n = \\frac{b-a}{Δx}$, reemplazando\n",
        "\n",
        "$$\n",
        "x_{RMS} = \\lim_{n \\to \\infty} \\sqrt{  \\frac{1}{b-a}  \\sum_{j=1}^n x(a+j\\Delta x)^2} \\Delta x\n",
        "$$\n",
        "\n",
        "Vemos que esta definción es muy similar a la de una integral de una función, con 3 diferencias notables:\n",
        "* La función a integrar está al cuadrado.\n",
        "* Estamos dividiendo sobre el intervalo.\n",
        "* El resultado de la integral está dentro de una raíz.\n",
        "\n",
        "Sin embargo, la potencia de una señal está dada por:\n",
        "\n",
        "$$\n",
        "\\bar{P}_x = \\lim_{T \\to \\infty} \\frac{1}{T} \\int_T |x(t)|^{2}~dt  \\tag{9}\n",
        "$$\n",
        "\n",
        "Se nota que en ambos la señal es elvadada al cuadrado y es divida sobre el intervalo definido, en el caso de la señal de potencia $[-∞,+\\infty]$.\n",
        "\n",
        "\n",
        "Es decir que el valor de potencia de una señal es el valor RMS elevado al cuadrado y donde el intervalo a calcular es $[-∞,+\\infty]$"
      ],
      "metadata": {
        "id": "AvcyznUXW8PB"
      }
    },
    {
      "cell_type": "markdown",
      "source": [
        "##Ejercicio 3"
      ],
      "metadata": {
        "id": "UtYFyXDIYGWU"
      }
    },
    {
      "cell_type": "markdown",
      "source": [
        "Para clasificar la señal $x(t)$ como de energía o de potencia, necesitamos calcular la energía o la potencia media de la señal en un intervalo finito de tiempo.\n",
        "\n",
        "Primero, calculemos la energía de la señal $x(t)$ en un intervalo de tiempo finito $[-T,T]$, donde $T>0$:\n",
        "\n",
        "$$E_T = \\int_{-T}^{T}|x(t)|^2dt=\\int_{-T}^{T}|e^{-\\alpha t}t|^2dt=\\int_{-T}^{T}e^{-2\\alpha t}t^2dt$$\n",
        "\n",
        "Podemos resolver esta integral por partes, usando $u = t$ y $dv = e^{-2\\alpha t}t~dt$:\n",
        "\n",
        "$$\\begin{aligned} E_T & = \\int_{-T}^{T}e^{-2\\alpha t}t^2dt \\ & = \\left[-\\frac{t}{2\\alpha}e^{-2\\alpha t} \\right]{-T}^{T} - \\int{-T}^{T}\\left(-\\frac{1}{2\\alpha}e^{-2\\alpha t}\\right)dt \\ & = \\frac{T^2}{\\alpha}e^{-2\\alpha T} + \\frac{1}{2\\alpha}\\left[e^{-2\\alpha t}\\right]_{-T}^{T} \\ & = \\frac{T^2}{\\alpha}e^{-2\\alpha T} + \\frac{1}{\\alpha}\\left(1-e^{-2\\alpha T}\\right) \\end{aligned}$$\n",
        "\n",
        "Ahora, tomemos el límite cuando $T \\rightarrow \\infty$:\n",
        "\n",
        "$$\\lim_{T \\rightarrow \\infty}E_T=\\lim_{T \\rightarrow \\infty}\\left(\\frac{T^2}{\\alpha}e^{-2\\alpha T} + \\frac{1}{\\alpha}\\left(1-e^{-2\\alpha T}\\right)\\right)$$\n",
        "\n",
        "Usando la regla de L'Hôpital, podemos demostrar que $\\lim_{T \\rightarrow \\infty} \\frac{T^2}{e^{2\\alpha T}} = 0$. Por lo tanto:\n",
        "\n",
        "$$\\lim_{T \\rightarrow \\infty}E_T = \\frac{1}{\\alpha}$$\n",
        "\n",
        "Si $\\lim_{T \\rightarrow \\infty}E_T$ es finito y distinto de cero, entonces la señal $x(t)$ es de potencia. Si $\\lim_{T \\rightarrow \\infty}E_T$ es cero, entonces la señal $x(t)$ es de energía. En este caso, como $\\lim_{T \\rightarrow \\infty}E_T$ es finito y distinto de cero, la señal $x(t)$ es de potencia.\n",
        "\n",
        "\n",
        "Por lo tanto, la señal $x(t) = e^{-\\alpha t}~t$ es de potencia."
      ],
      "metadata": {
        "id": "Yu0I5yMcZMxO"
      }
    },
    {
      "cell_type": "markdown",
      "source": [
        "##Ejercicio 4"
      ],
      "metadata": {
        "id": "-awtzdcZaDT8"
      }
    },
    {
      "cell_type": "markdown",
      "source": [
        "La distancia entre dos señales $x_1(t)$ y $x_2(t)$ se puede dar en términos de la potencia media de la diferencia entre ellas; es decir, la potencia media del error.\n",
        "\n",
        "$$\n",
        "d(x_1, x_2) = \\bar{P}_{x_1-x_2}=\\lim_{T \\to \\infty} \\frac{1}{T} \\int_T |x_1(t)-x_2(t)|^{2}~dt\n",
        "$$\n",
        "\n",
        "Sea $x_1(t)$ y $x_2(t$) dos señales periódicas de periodo fundamental $T_0$ como se muestra a continuación.\n",
        "\n",
        "$$\n",
        "x_1(t) = \\cos(w_0t), ~~~ w_0 = \\frac{2\\pi}{T_0}\\\\\n",
        "x_2(t)= \\left\\{ \\begin{array}{lcc}\n",
        "             ~~~1 &   si  & 0 \\leq t < \\frac{T}{4} \\\\\n",
        "             \\\\ -1 &  si &  \\frac{T}{4} \\leq t < \\frac{3T}{4} \\\\\n",
        "             \\\\ ~~~1 &  si  & \\frac{3T}{4} \\leq t < T\n",
        "             \\end{array}\n",
        "   \\right.\n",
        "$$\n",
        "\n",
        "Determine la distancia entre las dos señales:\\\n",
        "$$\n",
        "d(x_1, x_2) = \\bar{P}_{x_1-x_2}=\\lim_{T \\to \\infty} \\frac{1}{T} \\int_T |x_1(t)-x_2(t)|^{2}~dt\\\\\n",
        "d(x_1, x_2) = \\frac{1}{T_0} \\int_{0}^{T_0} |x_1(t)-x_2(t)|^{2}~dt\\\\\n",
        "= \\frac{1}{T_0} \\left[ \\int_{0}^{\\frac{T_0}{4}} |cos(\\omega_{0}t)-1|^{2}~dt + \n",
        "    \\int_{\\frac{T_0}{4}}^{\\frac{3T_0}{4}} |cos(\\omega_{0}t)+1|^{2}~dt\n",
        "    \\int_{\\frac{3T_0}{4}}^{T_0} |cos(\\omega_{0}t)-1|^{2}~dt\n",
        " \\right] \\\\\n",
        "= \\frac{1}{T_0} \\left[ \n",
        "    \\int_{0}^{\\frac{T_0}{4}} |cos(\\omega_{0}t)-1|^{2}~dt + \n",
        "    \\int_{\\frac{T_0}{4}}^{\\frac{3T_0}{4}} |cos(\\omega_{0}t)+1|^{2}~dt\n",
        "    \\int_{\\frac{3T_0}{4}}^{T_0} |cos(\\omega_{0}t)-1|^{2}~dt\n",
        " \\right] \\\\\n",
        " = \\frac{1}{T_0} \\left[ \n",
        "    \\frac{6 \\omega_0 t-8sen(\\omega_0t)+sin(2 \\omega_0 t)}{4\\omega_0}\\bigg|_{0}^{\\frac{T_0}{4}} + \n",
        "    \\frac{6 \\omega_0 t+8sen(\\omega_0t)+sin(2 \\omega_0 t)}{4\\omega_0}\\bigg|_{\\frac{T_0}{4}}^{\\frac{3T_0}{4}}\n",
        "    \\frac{6 \\omega_0 t-8sen(\\omega_0t)+sin(2 \\omega_0 t)}{4\\omega_0}\\bigg|_{\\frac{3T_0}{4}}^{T_0}\n",
        " \\right] \\\\\n",
        "= \\frac{1}{T_0} \\left[ \n",
        "    \\frac{6 \\omega_0 t-8sen(\\omega_0t)+sin(2 \\omega_0 t)}{4\\omega_0}\\bigg|_{0}^{\\frac{T_0}{4}} + \n",
        "    \\frac{6 \\omega_0 t+8sen(\\omega_0t)+sin(2 \\omega_0 t)}{4\\omega_0}\\bigg|_{\\frac{T_0}{4}}^{\\frac{3T_0}{4}}\n",
        "    \\frac{6 \\omega_0 t-8sen(\\omega_0t)+sin(2 \\omega_0 t)}{4\\omega_0}\\bigg|_{\\frac{3T_0}{4}}^{T_0}\n",
        " \\right] \\\\\n",
        "$$"
      ],
      "metadata": {
        "id": "JVctTCsfaGOc"
      }
    },
    {
      "cell_type": "code",
      "source": [
        "T0 = symbols('T0',real=True,nonzero=True)\n",
        "w0 = 2*pi/T0\n",
        "x1 = cos(w0*t)\n",
        "\n",
        "(integrate((cos(w0*t)-1)**2,(t,0,T0/4)) + integrate((cos(w0*t)+1)**2,(t,T0/4,3*T0/4)) + integrate((cos(w0*t)-1)**2,(t,3*T0/4,T0)))/T0"
      ],
      "metadata": {
        "id": "x6XsuYEOab60"
      },
      "execution_count": null,
      "outputs": []
    },
    {
      "cell_type": "markdown",
      "source": [
        "###Ejercicio 5\n"
      ],
      "metadata": {
        "id": "rs3GzoxKasWd"
      }
    },
    {
      "cell_type": "markdown",
      "source": [
        "Primero Definimos la norma.\\\n",
        "La norma de una señal $x(t)$ se define como:\n",
        "\n",
        "$$\\lVert x \\rVert^2 = \\int_{-\\infty}^{\\infty} \\lvert x(t) \\rvert^2 dt$$\n",
        "\n",
        "Secuentemente definimo la energía de una señal:\n",
        "\n",
        "$$E_x = \\int_{-\\infty}^{\\infty} \\lvert x(t) \\rvert^2 dt$$\n",
        "\n",
        "Para demostrar que la norma al cuadrado de una señal es igual a su energía, simplemente necesitamos demostrar que:\n",
        "\n",
        "$$\\lVert x \\rVert^2 = E_x$$\n",
        "\n",
        "Para hacer esto, podemos usar la definición de la energía de una señal para obtener:\n",
        "\n",
        "$$E_x = \\int_{-\\infty}^{\\infty} \\lvert x(t) \\rvert^2 dt$$\n",
        "\n",
        "Luego, podemos utilizar [la identidad de Parseval](https://es.wikipedia.org/wiki/Identidad_de_Parseval), que establece que la energía de una señal es igual a la norma al cuadrado de su transformada de Fourier:\n",
        "\n",
        "$$E_x = \\int_{-\\infty}^{\\infty} \\lvert x(t) \\rvert^2 dt = \\int_{-\\infty}^{\\infty} \\lvert F(x)(\\omega) \\rvert^2 d\\omega = \\lVert F(x) \\rVert^2$$\n",
        "\n",
        "Donde $\\mathcal{F}(x)$ es la transformada de Fourier de la señal $x(t)$.\n",
        "\n",
        "Para llegar finalmente  lo que  necesiramos es usar una propiedad de  Fourier para obtener:\n",
        "\n",
        "$$\\lVert x \\rVert^2 = \\lVert F(x) \\rVert^2 = \\int_{-\\infty}^{\\infty} \\lvert x(t) \\rvert^2 dt = E_x$$\n",
        "\n",
        "Lo que demuestra que la norma al cuadrado de una señal es igual a su energía."
      ],
      "metadata": {
        "id": "owGnwdCAbHKg"
      }
    },
    {
      "cell_type": "markdown",
      "source": [
        "Un ejemplo  para esto:\\\n",
        "Para una representacion , tebemos una señal $x(t) = \\cos(t)$ en el intervalo $[-\\pi,\\pi]$.\\\n",
        "Primero, podemos calcular la energía de la señal utilizando la fórmula que deducimos :\n",
        "\n",
        "$$ E_x = \\int_{-\\infty}^{\\infty} |x(t)|^2 dt $$\n",
        "\n",
        "Sin embargo, como la señal es periódica, podemos calcular la energía en un solo período y multiplicar por la duración del período para obtener la energía total:\n",
        "\n",
        "$$ E_x = \\frac{1}{2\\pi} \\int_{-\\pi}^{\\pi} |\\cos(t)|^2 dt = \\frac{1}{2\\pi} \\int_{-\\pi}^{\\pi} \\cos^2(t) dt $$\n",
        "\n",
        "Usando la identidad trigonométrica $\\cos^2(t) = \\frac{1}{2}(1 + \\cos(2t))$, podemos reescribir la integral como:\n",
        "\n",
        "$$ E_x = \\frac{1}{2\\pi} \\int_{-\\pi}^{\\pi} \\frac{1}{2}(1 + \\cos(2t)) dt = \\frac{1}{2} $$\n",
        "\n",
        "Por lo tanto, la energía de la señal es $\\frac{1}{2}$.\n",
        "\n",
        "A continuación, podemos calcular la norma al cuadrado de la señal utilizando la fórmula:\n",
        "\n",
        "$$ ||x||^2 = \\int_{-\\infty}^{\\infty} |x(t)|^2 dt $$\n",
        "\n",
        "Nuevamente, como la señal es periódica, podemos calcular la norma al cuadrado en un solo período y multiplicar por la duración del período para obtener la norma al cuadrado total:\n",
        "\n",
        "$$ ||x||^2 = \\frac{1}{2\\pi} \\int_{-\\pi}^{\\pi} |\\cos(t)|^2 dt = \\frac{1}{2\\pi} \\int_{-\\pi}^{\\pi} \\cos^2(t) dt $$\n",
        "\n",
        "Usando la misma identidad trigonométrica que antes, podemos reescribir la integral como:\n",
        "\n",
        "$$ ||x||^2 = \\frac{1}{2\\pi} \\int_{-\\pi}^{\\pi} \\frac{1}{2}(1 + \\cos(2t)) dt = \\frac{1}{2} $$\n",
        "\n",
        "Por lo tanto, la norma al cuadrado de la señal también es $\\frac{1}{2}$, lo que demuestra que la norma al cuadrado de una señal es igual a su energía.\n",
        "\n"
      ],
      "metadata": {
        "id": "msPTfNhEcSAo"
      }
    },
    {
      "cell_type": "code",
      "source": [
        "import numpy as np\n",
        "import matplotlib.pyplot as plt\n",
        "\n",
        "# llamamos una  señal aleatorio para\n",
        "# comprobar\n",
        "x = np.random.randn(100)\n",
        "\n",
        "# Calculamos la norma al cuadrado\n",
        "norm_squared = np.sum(np.abs(x)**2)\n",
        "\n",
        "# Calculamos la energía de la señal\n",
        "energy = np.sum(x**2)\n",
        "\n",
        "\n",
        "print(\"Norma al cuadrado de la señal:\", norm_squared)\n",
        "print(\"Energía de la señal:\", energy)\n",
        "\n",
        "\n",
        "plt.plot(x)\n",
        "plt.title('Señal')\n",
        "plt.xlabel('Tiempo (s)')\n",
        "plt.ylabel('Amplitud ')\n",
        "plt.show()"
      ],
      "metadata": {
        "colab": {
          "base_uri": "https://localhost:8080/",
          "height": 330
        },
        "id": "FB-3xw8Id2DB",
        "outputId": "201260f0-4d68-4bcc-bc65-2ae3e8fdb93f"
      },
      "execution_count": 14,
      "outputs": [
        {
          "output_type": "stream",
          "name": "stdout",
          "text": [
            "Norma al cuadrado de la señal: 117.60652537033779\n",
            "Energía de la señal: 117.60652537033779\n"
          ]
        },
        {
          "output_type": "display_data",
          "data": {
            "text/plain": [
              "<Figure size 432x288 with 1 Axes>"
            ],
            "image/png": "[encoded data removed]"
          },
          "metadata": {
            "needs_background": "light"
          }
        }
      ]
    }
  ]
}