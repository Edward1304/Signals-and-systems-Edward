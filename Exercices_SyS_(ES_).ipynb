{
  "nbformat": 4,
  "nbformat_minor": 0,
  "metadata": {
    "colab": {
      "provenance": [],
      "authorship_tag": "ABX9TyP2DLOyXGi+4K9W51ug6cAO",
      "include_colab_link": true
    },
    "kernelspec": {
      "name": "python3",
      "display_name": "Python 3"
    },
    "language_info": {
      "name": "python"
    }
  },
  "cells": [
    {
      "cell_type": "markdown",
      "metadata": {
        "id": "view-in-github",
        "colab_type": "text"
      },
      "source": [
        "<a href=\"https://colab.research.google.com/github/Edward1304/Signals-and-systems-Edward/blob/main/Exercices_SyS_(ES_).ipynb\" target=\"_parent\"><img src=\"https://colab.research.google.com/assets/colab-badge.svg\" alt=\"Open In Colab\"/></a>"
      ]
    },
    {
      "cell_type": "markdown",
      "source": [
        "##Edward Fabian Goyeneche Velandia.\n",
        "##Juan Sebastian Torres Clavijo\n",
        "## Juan Esteban Guevara Roncacio"
      ],
      "metadata": {
        "id": "g0-MwwgRNRnY"
      }
    },
    {
      "cell_type": "markdown",
      "source": [
        "**1.** Simular un proceso de discretización con  $F_s \\geq 2 F_o.$.  Dibujar el resultado de la señal discretizada utilizando la función stem."
      ],
      "metadata": {
        "id": "6zMYL8UlNi3G"
      }
    },
    {
      "cell_type": "code",
      "source": [
        "import numpy as np\n",
        "import matplotlib.pyplot as plt\n",
        "from scipy import signal\n",
        "\n",
        "# Parámetros de la señal\n",
        "freq = 100  # Hz\n",
        "dur = 1  # s\n",
        "Fs = 220  # Hz\n",
        "\n",
        "# Generar señal sinusoidal\n",
        "t = np.linspace(0, dur, int(dur*Fs), endpoint=False)\n",
        "x = np.sin(2*np.pi*freq*t)\n",
        "\n",
        "# Discretizar señal\n",
        "xn = signal.resample(x, int(dur*Fs*Fs/freq))\n",
        "\n",
        "# Dibujar señal discreta\n",
        "plt.stem(xn, use_line_collection=True)\n",
        "plt.xlabel('Muestras')\n",
        "plt.ylabel('Amplitud')\n",
        "plt.show()\n"
      ],
      "metadata": {
        "colab": {
          "base_uri": "https://localhost:8080/",
          "height": 279
        },
        "id": "7lQq1T31NzCc",
        "outputId": "9979e4c4-6fb0-443e-dc73-668a492e1b37"
      },
      "execution_count": 1,
      "outputs": [
        {
          "output_type": "display_data",
          "data": {
            "text/plain": [
              "<Figure size 432x288 with 1 Axes>"
            ],
            "image/png": "[encoded data removed]"
          },
          "metadata": {
            "needs_background": "light"
          }
        }
      ]
    },
    {
      "cell_type": "markdown",
      "source": [
        "2.Explicar el Funcionamiento  de  de los métodos **cdist** y **argmin**"
      ],
      "metadata": {
        "id": "ToLthd4jPfgh"
      }
    },
    {
      "cell_type": "markdown",
      "source": [
        "**cdist** es una función del paquete scipy.spatial.distance que se utiliza para calcular la distancia entre cada par de vectores en dos matrices dadas. Esta función toma dos matrices como entrada y calcula la distancia entre cada par de vectores en las dos matrices utilizando la métrica de distancia especificada. La métrica de distancia puede ser Euclidiana, Manhattan, Chebyshev, entre otras.\n",
        "\n",
        "Aquí hay un ejemplo de cómo usar cdist para calcular la distancia Euclidiana entre cada par de vectores en dos matrices:"
      ],
      "metadata": {
        "id": "OTwwRkiRPuyh"
      }
    },
    {
      "cell_type": "code",
      "source": [
        "import numpy as np\n",
        "from scipy.spatial.distance import cdist\n",
        "\n",
        "# Definir dos matrices de vectores\n",
        "X = np.array([[1, 2], [3, 4], [5, 6]])\n",
        "Y = np.array([[2, 2], [4, 4]])\n",
        "\n",
        "# Calcular la distancia Euclidiana entre cada par de vectores\n",
        "dist = cdist(X, Y, 'euclidean')\n",
        "\n",
        "print(dist)"
      ],
      "metadata": {
        "id": "_zDLhLlPQBMy"
      },
      "execution_count": null,
      "outputs": []
    },
    {
      "cell_type": "markdown",
      "source": [
        "En este ejemplo, X es una matriz de tres vectores de dos dimensiones, y Y es una matriz de dos vectores de dos dimensiones. La función cdist calcula la distancia Euclidiana entre cada par de vectores en X y Y, y devuelve una matriz de distancias de tamaño 3x2.\n",
        "\n",
        "Por otro lado, argmin es una función de la biblioteca estándar de Python que se utiliza para encontrar el índice del valor mínimo en una matriz unidimensional. Si se llama a la función con una matriz multidimensional, se puede especificar un eje a lo largo del cual se debe encontrar el índice mínimo.\n",
        "\n",
        "Aquí hay un ejemplo de cómo usar argmin para encontrar el índice del valor mínimo en una matriz unidimensional:\n"
      ],
      "metadata": {
        "id": "ytAY3jtfQLF4"
      }
    },
    {
      "cell_type": "code",
      "source": [
        "import numpy as np\n",
        "\n",
        "# Definir una matriz unidimensional\n",
        "x = np.array([3, 2, 4, 1, 5])\n",
        "\n",
        "# Encontrar el índice del valor mínimo en la matriz\n",
        "min_index = np.argmin(x)\n",
        "\n",
        "print(min_index)"
      ],
      "metadata": {
        "id": "__OL7c4HQWW4"
      },
      "execution_count": null,
      "outputs": []
    },
    {
      "cell_type": "markdown",
      "source": [
        "En este ejemplo, x es una matriz unidimensional. La función argmin encuentra el índice del valor mínimo en la matriz x, que es 3. Si la matriz tuviera varias dimensiones, podríamos especificar el eje a lo largo del cual se debe encontrar el índice mínimo"
      ],
      "metadata": {
        "id": "OtOwbYshQZ2x"
      }
    },
    {
      "cell_type": "code",
      "source": [],
      "metadata": {
        "id": "Pi9ZsCXXQbiJ"
      },
      "execution_count": null,
      "outputs": []
    }
  ]
}